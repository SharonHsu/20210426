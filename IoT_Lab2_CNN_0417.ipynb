{
  "nbformat": 4,
  "nbformat_minor": 0,
  "metadata": {
    "colab": {
      "name": "IoT_Lab2_CNN_0417.ipynb",
      "provenance": [],
      "collapsed_sections": [],
      "include_colab_link": true
    },
    "kernelspec": {
      "name": "python3",
      "display_name": "Python 3"
    },
    "accelerator": "GPU"
  },
  "cells": [
    {
      "cell_type": "markdown",
      "metadata": {
        "id": "view-in-github",
        "colab_type": "text"
      },
      "source": [
        "<a href=\"https://colab.research.google.com/github/SharonHsu/20210426/blob/main/IoT_Lab2_CNN_0417.ipynb\" target=\"_parent\"><img src=\"https://colab.research.google.com/assets/colab-badge.svg\" alt=\"Open In Colab\"/></a>"
      ]
    },
    {
      "cell_type": "markdown",
      "metadata": {
        "id": "g5B6u0mfxQ98"
      },
      "source": [
        "# Lab 2: Convolutional Neural Network\n",
        "在這個Lab中，我們要利用Deep Network來訓練出一個貓狗分類器。\n"
      ]
    },
    {
      "cell_type": "markdown",
      "source": [
        "# 資料準備\n",
        "\n",
        "1. 請下載[data.zip資料集](https://drive.google.com/file/d/1FU8f0ULc3i8uT9CE7bTXTi9tYaKXs4N5/view?usp=sharing)，並將檔案上傳到自己的雲端硬碟\n",
        "2. 請點選左方的「掛接至雲端硬碟」，並將data.zip拖曳至colab工作階段儲存空間\n",
        "3. 將data.zip解壓縮\n",
        "\n"
      ],
      "metadata": {
        "id": "x8jTx0ZrlB_A"
      }
    },
    {
      "cell_type": "code",
      "source": [
        "from google.colab import drive\n",
        "drive.mount('/content/drive')"
      ],
      "metadata": {
        "colab": {
          "base_uri": "https://localhost:8080/"
        },
        "id": "ObvjLuh-BL9v",
        "outputId": "1b3d4328-eccb-4b11-d0fc-c18e9df1f0e9"
      },
      "execution_count": 49,
      "outputs": [
        {
          "output_type": "stream",
          "name": "stdout",
          "text": [
            "Drive already mounted at /content/drive; to attempt to forcibly remount, call drive.mount(\"/content/drive\", force_remount=True).\n"
          ]
        }
      ]
    },
    {
      "cell_type": "code",
      "source": [
        ""
      ],
      "metadata": {
        "id": "JznlLHxG1Dc-"
      },
      "execution_count": 25,
      "outputs": []
    },
    {
      "cell_type": "code",
      "metadata": {
        "id": "ft7L1vq1NIyn",
        "outputId": "6f689bb2-f8e6-40c3-ad09-ba8235b7cc57",
        "colab": {
          "base_uri": "https://localhost:8080/"
        }
      },
      "source": [
        "!unzip data.zip"
      ],
      "execution_count": 48,
      "outputs": [
        {
          "output_type": "stream",
          "name": "stdout",
          "text": [
            "unzip:  cannot find or open data.zip, data.zip.zip or data.zip.ZIP.\n"
          ]
        }
      ]
    },
    {
      "cell_type": "markdown",
      "source": [
        "## 測試圖片檔案是否正確"
      ],
      "metadata": {
        "id": "olvr56abkjGn"
      }
    },
    {
      "cell_type": "code",
      "source": [
        "import glob, os\n",
        "\n",
        "from PIL import Image\n",
        "imagepath = 'data/train/cats'\n",
        "# imagepath = 'data/train/dogs'\n",
        "imgs_names = glob.glob(os.path.join(imagepath,'*.jpg'))\n",
        "for imgname in imgs_names: \t\n",
        "  img = Image.open(imgname) \t\n",
        "  if img is None:               \t\n",
        "    print(imgname) "
      ],
      "metadata": {
        "id": "M0_N5Q75_eDN"
      },
      "execution_count": 43,
      "outputs": []
    },
    {
      "cell_type": "markdown",
      "metadata": {
        "id": "JnDpNSQ-zsGt"
      },
      "source": [
        "#Import Library\n",
        "我們載入必要的library："
      ]
    },
    {
      "cell_type": "code",
      "metadata": {
        "id": "RBCcDdbxxFNK"
      },
      "source": [
        "%matplotlib inline\n",
        "%config InlineBackend.figure_format = 'retina'\n",
        "import matplotlib.pyplot as plt\n",
        "plt.style.use('ggplot')\n",
        "import pandas as pd\n",
        "import numpy as np\n",
        "import seaborn as sns\n",
        "import warnings\n",
        "import os\n",
        "import pickle\n",
        "\n",
        "warnings.filterwarnings('ignore')\n",
        "pd.options.display.float_format = '{:,.2f}'.format\n",
        "pd.set_option('display.max_rows', 100)\n",
        "pd.set_option('display.max_columns', 200)\n",
        "\n",
        "from __future__ import print_function\n",
        "from keras.models import Model, Sequential, load_model\n",
        "from keras.layers import Dense, Input, Conv2D, MaxPooling2D, Flatten, Dropout\n",
        "from keras.datasets import mnist\n",
        "from tensorflow.keras.optimizers import Adam\n",
        "from keras.preprocessing import image\n",
        "# from keras.applications import VGG16\n",
        "from keras.preprocessing.image import ImageDataGenerator\n",
        "from keras.callbacks import EarlyStopping\n",
        "from keras import backend as K\n",
        "from vis.utils import utils\n",
        "from keras import activations\n",
        "#from vis.visualization import visualize_activation, get_num_filters\n",
        "from vis.input_modifiers import Jitter\n",
        "\n",
        "\n",
        "from keras.preprocessing.image import ImageDataGenerator\n",
        "from keras.models import Sequential\n",
        "from keras.layers import Conv2D, MaxPooling2D\n",
        "from keras.layers import Activation, Dropout, Flatten, Dense\n",
        "from keras import backend as K"
      ],
      "execution_count": 14,
      "outputs": []
    },
    {
      "cell_type": "markdown",
      "metadata": {
        "id": "WDxBNWmFytYi"
      },
      "source": [
        "# Utility Functions\n",
        "我們以下會用視覺化的工具來幫助各位了解分類的結果。因此在這邊我們這邊先撰寫幾個utility function。函數的名字應該很好了解其功用，因此建議你可以直接看一下其功能後，就往下一個部分前進。"
      ]
    },
    {
      "cell_type": "code",
      "metadata": {
        "id": "q5KXvzQiypOb"
      },
      "source": [
        "def smooth_curve(points, factor=0.8):\n",
        "    smoothed = []\n",
        "    for point in points:\n",
        "        if smoothed:\n",
        "            previous = smoothed[-1]\n",
        "            smoothed.append(previous * factor + point * (1 - factor))\n",
        "        else:\n",
        "            smoothed.append(point)\n",
        "    return smoothed\n",
        "\n",
        "def plot_compare(history, steps=-1):\n",
        "    if steps < 0:\n",
        "        steps = len(history.history['accuracy'])\n",
        "    acc = smooth_curve(history.history['accuracy'][:steps])\n",
        "    val_acc = smooth_curve(history.history['val_accuracy'][:steps])\n",
        "    loss = smooth_curve(history.history['loss'][:steps])\n",
        "    val_loss = smooth_curve(history.history['val_loss'][:steps])\n",
        "    \n",
        "    plt.figure(figsize=(6, 4))\n",
        "    plt.plot(loss, c='#0c7cba', label='Train Loss')\n",
        "    plt.plot(val_loss, c='#0f9d58', label='Val Loss')\n",
        "    plt.xticks(range(0, len(loss), 5))\n",
        "    plt.xlim(0, len(loss))\n",
        "    plt.title('Train Loss: %.3f, Val Loss: %.3f' % (loss[-1], val_loss[-1]), fontsize=12)\n",
        "    plt.legend()\n",
        "    \n",
        "    plt.figure(figsize=(6, 4))\n",
        "    plt.plot(acc, c='#0c7cba', label='Train Acc')\n",
        "    plt.plot(val_acc, c='#0f9d58', label='Val Acc')\n",
        "    plt.xticks(range(0, len(acc), 5))\n",
        "    plt.xlim(0, len(acc))\n",
        "    plt.title('Train Accuracy: %.3f, Val Accuracy: %.3f' % (acc[-1], val_acc[-1]), fontsize=12)\n",
        "    plt.legend()\n",
        "    \n",
        "def deprocess_image(x):\n",
        "    # normalize tensor: center on 0., ensure std is 0.1\n",
        "    x -= x.mean()\n",
        "    x /= (x.std() + 1e-5)\n",
        "    x *= 0.1\n",
        "\n",
        "    # clip to [0, 1]\n",
        "    x += 0.5\n",
        "    x = np.clip(x, 0, 1)\n",
        "\n",
        "    # convert to RGB array\n",
        "    x *= 255\n",
        "    x = np.clip(x, 0, 255).astype('uint8')\n",
        "    return x\n",
        " \n",
        "def save_history(history, fn):\n",
        "    with open(fn, 'wb') as fw:\n",
        "        pickle.dump(history.history, fw, protocol=2)\n",
        "\n",
        "def load_history(fn):\n",
        "    class Temp():\n",
        "        pass\n",
        "    history = Temp()\n",
        "    with open(fn, 'rb') as fr:\n",
        "        history.history = pickle.load(fr)\n",
        "    return history\n",
        "\n",
        "def jitter(img, amount=32):\n",
        "    ox, oy = np.random.randint(-amount, amount+1, 2)\n",
        "    return np.roll(np.roll(img, ox, -1), oy, -2), ox, oy\n",
        "\n",
        "def reverse_jitter(img, ox, oy):\n",
        "    return np.roll(np.roll(img, -ox, -1), -oy, -2)\n",
        "\n",
        "def plot_image(img):\n",
        "    plt.figure(figsize=(6, 6))\n",
        "    plt.imshow(img)\n",
        "    plt.axis('off')"
      ],
      "execution_count": 15,
      "outputs": []
    },
    {
      "cell_type": "markdown",
      "metadata": {
        "id": "fNbtd5rMy1fC"
      },
      "source": [
        "# 參數設定"
      ]
    },
    {
      "cell_type": "code",
      "metadata": {
        "id": "EeQ37l5Ky5sR"
      },
      "source": [
        "# dimensions of our images.\n",
        "img_width, img_height = 150, 150\n",
        "\n",
        "train_data_dir = 'data/train'\n",
        "validation_data_dir = 'data/validation'\n",
        "test_data_dir = 'data/test'"
      ],
      "execution_count": 16,
      "outputs": []
    },
    {
      "cell_type": "markdown",
      "metadata": {
        "id": "-P2jHOLCy8Dy"
      },
      "source": [
        "# Data Generator\n",
        "Keras針對圖片數量不夠多的問題，也提供了解法：利用ImageDataGenerator\n",
        "\n",
        "我們可以利用一張圖片，進行若干運算之後，得到不同的圖片。 有興趣的同學可以參考：https://zhuanlan.zhihu.com/p/30197320"
      ]
    },
    {
      "cell_type": "code",
      "metadata": {
        "id": "6zVCM6Z9zAPG",
        "colab": {
          "base_uri": "https://localhost:8080/",
          "height": 416
        },
        "outputId": "024f2c8f-8c85-4416-f9c4-84a807a59176"
      },
      "source": [
        "# train\n",
        "train_datagen = ImageDataGenerator(\n",
        "    rescale=1. / 255,\n",
        "    shear_range=0.2,\n",
        "    zoom_range=0.2,\n",
        "    horizontal_flip=True)\n",
        "train_generator = train_datagen.flow_from_directory(\n",
        "    directory=train_data_dir,\n",
        "    target_size=(img_width, img_height),\n",
        "    batch_size=20,\n",
        "    class_mode='categorical')\n",
        "\n",
        "#　validation\n",
        "validation_datagen = ImageDataGenerator(rescale=1. / 255)\n",
        "validation_generator = train_datagen.flow_from_directory(\n",
        "    directory=validation_data_dir,\n",
        "    target_size=(img_width, img_height),\n",
        "    batch_size=20,\n",
        "    class_mode='categorical')\n",
        "\n",
        "\n",
        "# test\n",
        "test_datagen = ImageDataGenerator(rescale=1. / 255)\n",
        "test_generator = train_datagen.flow_from_directory(\n",
        "    directory=validation_data_dir,\n",
        "    target_size=(img_width, img_height),\n",
        "    batch_size=20,\n",
        "    class_mode='categorical')"
      ],
      "execution_count": 17,
      "outputs": [
        {
          "output_type": "error",
          "ename": "FileNotFoundError",
          "evalue": "ignored",
          "traceback": [
            "\u001b[0;31m---------------------------------------------------------------------------\u001b[0m",
            "\u001b[0;31mFileNotFoundError\u001b[0m                         Traceback (most recent call last)",
            "\u001b[0;32m<ipython-input-17-382a77aa29b9>\u001b[0m in \u001b[0;36m<module>\u001b[0;34m()\u001b[0m\n\u001b[1;32m      9\u001b[0m     \u001b[0mtarget_size\u001b[0m\u001b[0;34m=\u001b[0m\u001b[0;34m(\u001b[0m\u001b[0mimg_width\u001b[0m\u001b[0;34m,\u001b[0m \u001b[0mimg_height\u001b[0m\u001b[0;34m)\u001b[0m\u001b[0;34m,\u001b[0m\u001b[0;34m\u001b[0m\u001b[0;34m\u001b[0m\u001b[0m\n\u001b[1;32m     10\u001b[0m     \u001b[0mbatch_size\u001b[0m\u001b[0;34m=\u001b[0m\u001b[0;36m20\u001b[0m\u001b[0;34m,\u001b[0m\u001b[0;34m\u001b[0m\u001b[0;34m\u001b[0m\u001b[0m\n\u001b[0;32m---> 11\u001b[0;31m     class_mode='categorical')\n\u001b[0m\u001b[1;32m     12\u001b[0m \u001b[0;34m\u001b[0m\u001b[0m\n\u001b[1;32m     13\u001b[0m \u001b[0;31m#　validation\u001b[0m\u001b[0;34m\u001b[0m\u001b[0;34m\u001b[0m\u001b[0;34m\u001b[0m\u001b[0m\n",
            "\u001b[0;32m/usr/local/lib/python3.7/dist-packages/keras/preprocessing/image.py\u001b[0m in \u001b[0;36mflow_from_directory\u001b[0;34m(self, directory, target_size, color_mode, classes, class_mode, batch_size, shuffle, seed, save_to_dir, save_prefix, save_format, follow_links, subset, interpolation)\u001b[0m\n\u001b[1;32m    990\u001b[0m         \u001b[0mfollow_links\u001b[0m\u001b[0;34m=\u001b[0m\u001b[0mfollow_links\u001b[0m\u001b[0;34m,\u001b[0m\u001b[0;34m\u001b[0m\u001b[0;34m\u001b[0m\u001b[0m\n\u001b[1;32m    991\u001b[0m         \u001b[0msubset\u001b[0m\u001b[0;34m=\u001b[0m\u001b[0msubset\u001b[0m\u001b[0;34m,\u001b[0m\u001b[0;34m\u001b[0m\u001b[0;34m\u001b[0m\u001b[0m\n\u001b[0;32m--> 992\u001b[0;31m         interpolation=interpolation)\n\u001b[0m\u001b[1;32m    993\u001b[0m \u001b[0;34m\u001b[0m\u001b[0m\n\u001b[1;32m    994\u001b[0m   def flow_from_dataframe(self,\n",
            "\u001b[0;32m/usr/local/lib/python3.7/dist-packages/keras/preprocessing/image.py\u001b[0m in \u001b[0;36m__init__\u001b[0;34m(self, directory, image_data_generator, target_size, color_mode, classes, class_mode, batch_size, shuffle, seed, data_format, save_to_dir, save_prefix, save_format, follow_links, subset, interpolation, dtype)\u001b[0m\n\u001b[1;32m    408\u001b[0m         \u001b[0msubset\u001b[0m\u001b[0;34m=\u001b[0m\u001b[0msubset\u001b[0m\u001b[0;34m,\u001b[0m\u001b[0;34m\u001b[0m\u001b[0;34m\u001b[0m\u001b[0m\n\u001b[1;32m    409\u001b[0m         \u001b[0minterpolation\u001b[0m\u001b[0;34m=\u001b[0m\u001b[0minterpolation\u001b[0m\u001b[0;34m,\u001b[0m\u001b[0;34m\u001b[0m\u001b[0;34m\u001b[0m\u001b[0m\n\u001b[0;32m--> 410\u001b[0;31m         **kwargs)\n\u001b[0m\u001b[1;32m    411\u001b[0m \u001b[0;34m\u001b[0m\u001b[0m\n\u001b[1;32m    412\u001b[0m \u001b[0;34m\u001b[0m\u001b[0m\n",
            "\u001b[0;32m/usr/local/lib/python3.7/dist-packages/keras_preprocessing/image/directory_iterator.py\u001b[0m in \u001b[0;36m__init__\u001b[0;34m(self, directory, image_data_generator, target_size, color_mode, classes, class_mode, batch_size, shuffle, seed, data_format, save_to_dir, save_prefix, save_format, follow_links, subset, interpolation, dtype)\u001b[0m\n\u001b[1;32m    113\u001b[0m         \u001b[0;32mif\u001b[0m \u001b[0;32mnot\u001b[0m \u001b[0mclasses\u001b[0m\u001b[0;34m:\u001b[0m\u001b[0;34m\u001b[0m\u001b[0;34m\u001b[0m\u001b[0m\n\u001b[1;32m    114\u001b[0m             \u001b[0mclasses\u001b[0m \u001b[0;34m=\u001b[0m \u001b[0;34m[\u001b[0m\u001b[0;34m]\u001b[0m\u001b[0;34m\u001b[0m\u001b[0;34m\u001b[0m\u001b[0m\n\u001b[0;32m--> 115\u001b[0;31m             \u001b[0;32mfor\u001b[0m \u001b[0msubdir\u001b[0m \u001b[0;32min\u001b[0m \u001b[0msorted\u001b[0m\u001b[0;34m(\u001b[0m\u001b[0mos\u001b[0m\u001b[0;34m.\u001b[0m\u001b[0mlistdir\u001b[0m\u001b[0;34m(\u001b[0m\u001b[0mdirectory\u001b[0m\u001b[0;34m)\u001b[0m\u001b[0;34m)\u001b[0m\u001b[0;34m:\u001b[0m\u001b[0;34m\u001b[0m\u001b[0;34m\u001b[0m\u001b[0m\n\u001b[0m\u001b[1;32m    116\u001b[0m                 \u001b[0;32mif\u001b[0m \u001b[0mos\u001b[0m\u001b[0;34m.\u001b[0m\u001b[0mpath\u001b[0m\u001b[0;34m.\u001b[0m\u001b[0misdir\u001b[0m\u001b[0;34m(\u001b[0m\u001b[0mos\u001b[0m\u001b[0;34m.\u001b[0m\u001b[0mpath\u001b[0m\u001b[0;34m.\u001b[0m\u001b[0mjoin\u001b[0m\u001b[0;34m(\u001b[0m\u001b[0mdirectory\u001b[0m\u001b[0;34m,\u001b[0m \u001b[0msubdir\u001b[0m\u001b[0;34m)\u001b[0m\u001b[0;34m)\u001b[0m\u001b[0;34m:\u001b[0m\u001b[0;34m\u001b[0m\u001b[0;34m\u001b[0m\u001b[0m\n\u001b[1;32m    117\u001b[0m                     \u001b[0mclasses\u001b[0m\u001b[0;34m.\u001b[0m\u001b[0mappend\u001b[0m\u001b[0;34m(\u001b[0m\u001b[0msubdir\u001b[0m\u001b[0;34m)\u001b[0m\u001b[0;34m\u001b[0m\u001b[0;34m\u001b[0m\u001b[0m\n",
            "\u001b[0;31mFileNotFoundError\u001b[0m: [Errno 2] No such file or directory: 'data/train'"
          ]
        }
      ]
    },
    {
      "cell_type": "markdown",
      "metadata": {
        "id": "laK3Q97EzDyp"
      },
      "source": [
        "我們可以利用以下的code來看看結果："
      ]
    },
    {
      "cell_type": "code",
      "metadata": {
        "id": "Xti99_lMzL22"
      },
      "source": [
        "from keras.preprocessing.image import ImageDataGenerator, array_to_img, img_to_array, load_img\n",
        "\n",
        "datagen = ImageDataGenerator(\n",
        "        rotation_range=40,\n",
        "        width_shift_range=0.2,\n",
        "        height_shift_range=0.2,\n",
        "        shear_range=0.2,\n",
        "        zoom_range=0.2,\n",
        "        horizontal_flip=True,\n",
        "        fill_mode='nearest')\n",
        "\n",
        "img = load_img('data/train/cats/1.jpg')  # this is a PIL image\n",
        "x = img_to_array(img)  # this is a Numpy array with shape (3, 150, 150)\n",
        "x = x.reshape((1,) + x.shape)  # this is a Numpy array with shape (1, 3, 150, 150)\n",
        "\n",
        "\n",
        "i = 0\n",
        "for batch in datagen.flow(x, batch_size=1,save_to_dir='data/train/cats', save_prefix='cat', save_format='jpeg'):\n",
        "    i += 1\n",
        "    if i > 20:\n",
        "        break  # otherwise the generator would loop indefinitely"
      ],
      "execution_count": null,
      "outputs": []
    },
    {
      "cell_type": "markdown",
      "metadata": {
        "id": "1jL720yIzUwU"
      },
      "source": [
        "檢查在data/資料夾下的檔案，會發現這個generator利用了1.jpg產生了很多圖片"
      ]
    },
    {
      "cell_type": "markdown",
      "metadata": {
        "id": "I__94ckKzYSx"
      },
      "source": [
        "# Building a Convolutional Neural Network\n",
        "在此處，我們要建立一個CNN。\n",
        "\n",
        "這邊有四個地方是我們沒看過的：\n",
        "\n",
        "* Conv2D: 這個函數會建立一個convolutional layer。第一個參數為filter數量，第二個是filter size。也可以在此設定padding參數為same (有padding) or valid (沒有padding)。參數Stride預設則為1。\n",
        "* Activation: 用來單一增加activation function之用。\n",
        "* MaxPooling2D: 建立一個maxpooling layer。參數為window size。\n",
        "* Flatten: 將目前的輸出攤平成一個一維向量。\n",
        "* Dropout: 執行dropout將某些點丟棄，參數為其比率。\n",
        "\n",
        "以下我們要建立如此的network\n",
        "\n",
        "1. CONV: 32個filter，每一個filter大小為3x3，activation function為relu\n",
        "2. POOL: window size為2x2\n",
        "3. CONV: 32個filter，每一個filter大小為3x3，activation function為relu\n",
        "4. POOL: window size為2x2\n",
        "5. CONV: 64個filter，每一個filter大小為3x3，activation function為relu\n",
        "6. POOL: window size為2x2\n",
        "7. FC: 64個node的full connected layer\n",
        "8. Output Layer: 這是一個**[　　]**分類問題，所以output layer的neuron數為:**[　　]**，要用的激活函數為:**[　　]**\n",
        "\n",
        "注意，在convolution進入到full connected layer的時候，記得要把向量攤平(flatten)。"
      ]
    },
    {
      "cell_type": "code",
      "metadata": {
        "id": "rhg0TbVtz5UC"
      },
      "source": [
        "# 判斷RGB是在矩陣中的第幾個元素?\n",
        "if K.image_data_format() == 'channels_first':\n",
        "    input_shape = (3, img_width, img_height)\n",
        "else:\n",
        "    input_shape = (img_width, img_height, 3)\n",
        "\n",
        "model = Sequential()\n",
        "model.add(Conv2D(32, (3, 3), input_shape=input_shape))\n",
        "model.add(Activation('relu'))\n",
        "model.add(MaxPooling2D(pool_size=(2, 2)))\n",
        "\n",
        "model.add(Conv2D(32, (3, 3)))\n",
        "model.add(Activation('relu'))\n",
        "model.add(MaxPooling2D(pool_size=(2, 2)))\n",
        "\n",
        "model.add(Conv2D(64, (3, 3)))\n",
        "model.add(Activation('relu'))\n",
        "model.add(MaxPooling2D(pool_size=(2, 2)))\n",
        "\n",
        "model.add(Flatten())\n",
        "model.add(Dense(64))\n",
        "model.add(Activation('relu'))\n",
        "model.add(Dropout(0.5))\n",
        "\n",
        "# 請填寫下方空白處\n",
        "# model.add(Dense(  ,activation='     '))\n",
        "\n",
        "model.compile(loss='binary_crossentropy',\n",
        "              optimizer='rmsprop',\n",
        "metrics=['accuracy'])"
      ],
      "execution_count": null,
      "outputs": []
    },
    {
      "cell_type": "markdown",
      "metadata": {
        "id": "Jkfk1-4O0AOQ"
      },
      "source": [
        "# Training\n",
        "\n",
        "在此我們先將epochs設為30次，同學可以自己實驗不同的次數 "
      ]
    },
    {
      "cell_type": "code",
      "metadata": {
        "id": "eWrVT9cA0ET0"
      },
      "source": [
        "history = model.fit(train_generator, epochs=30, validation_data=validation_generator, verbose=1)"
      ],
      "execution_count": null,
      "outputs": []
    },
    {
      "cell_type": "markdown",
      "metadata": {
        "id": "piH9W82E0Gj7"
      },
      "source": [
        "# Save\n",
        "\n",
        "我們可以利用model.save()這個函數，將model存起來供以後使用。"
      ]
    },
    {
      "cell_type": "code",
      "metadata": {
        "id": "-dTl7C250I9e"
      },
      "source": [
        "model.save('model.h5')\n",
        "save_history(history, 'history.bin')"
      ],
      "execution_count": null,
      "outputs": []
    },
    {
      "cell_type": "code",
      "metadata": {
        "id": "nAK5HCJL0Lhp",
        "colab": {
          "base_uri": "https://localhost:8080/",
          "height": 543
        },
        "outputId": "acdf0fbf-9191-47b6-bf80-2da6ea6a670a"
      },
      "source": [
        "history = load_history('history.bin')\n",
        "plot_compare(history)"
      ],
      "execution_count": null,
      "outputs": [
        {
          "output_type": "display_data",
          "data": {
            "text/plain": [
              "<Figure size 432x288 with 1 Axes>"
            ],
            "image/png": "[encoded data removed]"
          },
          "metadata": {
            "image/png": {
              "width": 378,
              "height": 263
            }
          }
        },
        {
          "output_type": "display_data",
          "data": {
            "text/plain": [
              "<Figure size 432x288 with 1 Axes>"
            ],
            "image/png": "[encoded data removed]"
          },
          "metadata": {
            "image/png": {
              "width": 378,
              "height": 263
            }
          }
        }
      ]
    },
    {
      "cell_type": "markdown",
      "metadata": {
        "id": "hDb3FnMz0S6i"
      },
      "source": [
        "# Quiz 1: 參數數量\n",
        "請問我們用手刻的CNN總共的參數數量有幾個？\n",
        "\n",
        "可以參考：https://keras.io/models/about-keras-models/\n",
        "提示 summary"
      ]
    },
    {
      "cell_type": "code",
      "metadata": {
        "id": "bzW4p2h_0Nz6"
      },
      "source": [
        "#輸入函數顯示參數數量"
      ],
      "execution_count": null,
      "outputs": []
    },
    {
      "cell_type": "markdown",
      "metadata": {
        "id": "V3VOmw660al-"
      },
      "source": [
        "# Quiz 2: Prediction\n",
        "上面我們已經訓練好了一個CNN，接下來請利用訓練出來的CNN來判斷圖片是貓還是狗。"
      ]
    },
    {
      "cell_type": "code",
      "metadata": {
        "id": "aqPGywCY0dbJ"
      },
      "source": [
        "# input photo\n",
        "img_path = ''\n",
        "\n",
        "img = image.load_img(img_path, target_size=(150, 150))\n",
        "img_tensor = image.img_to_array(img)\n",
        "img_tensor = np.expand_dims(img_tensor, axis=0)\n",
        "img_tensor /= 255.\n",
        "print(img_tensor.shape)\n",
        "plt.imshow(img)"
      ],
      "execution_count": null,
      "outputs": []
    },
    {
      "cell_type": "code",
      "metadata": {
        "id": "ZSgalf6k0hJE"
      },
      "source": [
        "# put your code here\n",
        "# hint: use \"train_generator.class_indices\" to confirm the coding of each class\n",
        "\n",
        "prediction = model.predict(img_tensor)\n",
        "print(prediction)\n",
        "prediction = np.argmax(prediction, axis=1)\n",
        "\n",
        "print(prediction)\n",
        "\n",
        "if prediction == 0:\n",
        "    print(\"It is a cat!\")\n",
        "else:\n",
        "    print(\"It is a dog!\")"
      ],
      "execution_count": null,
      "outputs": []
    },
    {
      "cell_type": "markdown",
      "metadata": {
        "id": "3ZebMI3J0j7z"
      },
      "source": [
        "# Quiz 3:\n",
        "給定testing data為test資料夾中的資料，求出訓練出的model的Accuracy為何。\n",
        "\n",
        "計算範例：請自行補齊程式\n",
        "x,y為 不同分類 如 cat or dog\n",
        "\n",
        "\n",
        "```\n",
        "total_img=0\n",
        "correct_img=0\n",
        "total_img_x=0\n",
        "correct_img_x=0\n",
        "total_img_y=0\n",
        "correct_img_y=0\n",
        "\n",
        "\n",
        "for x in os.listdir(path='data/test/x'):\n",
        "  img_path=os.path.join('data/test/x', x)\n",
        "  img = image.load_img(img_path, target_size=(150, 150))\n",
        "  img_tensor = image.img_to_array(img)\n",
        "  img_tensor = np.expand_dims(img_tensor, axis=0)\n",
        "  img_tensor /= 255.\n",
        "  prediction = model.predict(img_tensor)\n",
        "  prediction = np.argmax(prediction, axis=1)\n",
        "  \n",
        "  if prediction ==0:\n",
        "    correct_img=correct_img+1\n",
        "    correct_img_cat=correct_img_x +1\n",
        "  total_img=total_img+1\n",
        "  total_img_x=total_img_x +1\n",
        "```\n",
        "\n"
      ]
    },
    {
      "cell_type": "code",
      "metadata": {
        "id": "KScpLr2q0nnr",
        "colab": {
          "base_uri": "https://localhost:8080/"
        },
        "outputId": "dbc32742-a4d4-488c-a116-5a665437e29f"
      },
      "source": [
        "\n",
        "\n",
        "#Put your code here!\n",
        "\n",
        "#\n",
        "\n",
        "print(\"correct_predict_cat: \")\n",
        "print(\"total_image_cat: \")\n",
        "print(\"prediction accuracy_cat: \")\n"
      ],
      "execution_count": null,
      "outputs": [
        {
          "output_type": "stream",
          "name": "stdout",
          "text": [
            "correct_predict_cat: 50\n",
            "total_image_cat: 50\n",
            "prediction accuracy_cat: 1.0\n",
            "correct_predict_dog: 0\n",
            "total_image_dog: 50\n",
            "prediction accuracy_dog: 0.0\n",
            "correct_predict: 50\n",
            "total_image: 100\n",
            "prediction accuracy: 0.5\n"
          ]
        }
      ]
    }
  ]
}